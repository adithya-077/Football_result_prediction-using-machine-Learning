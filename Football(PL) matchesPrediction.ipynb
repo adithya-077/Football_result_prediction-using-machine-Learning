{
 "cells": [
  {
   "cell_type": "code",
   "execution_count": 2,
   "id": "d6f502b3",
   "metadata": {},
   "outputs": [],
   "source": [
    "import pandas as pd\n",
    "import matplotlib.pyplot as plt\n",
    "import numpy as np\n",
    "from sklearn.ensemble import RandomForestClassifier\n",
    "from sklearn.metrics import accuracy_score\n",
    "from sklearn.metrics import precision_score\n",
    "import seaborn as sns"
   ]
  },
  {
   "cell_type": "code",
   "execution_count": 3,
   "id": "f1e79ddc",
   "metadata": {},
   "outputs": [],
   "source": [
    "df = pd.read_csv('./matches.csv',index_col=0)\n",
    "\n",
    "df_initial = df\n",
    "df.head()"
   ]
  },
  {
   "cell_type": "code",
   "execution_count": 4,
   "id": "916b9850",
   "metadata": {},
   "outputs": [
    {
     "data": {
      "text/plain": [
       "array(['Premier League'], dtype=object)"
      ]
     },
     "execution_count": 4,
     "metadata": {},
     "output_type": "execute_result"
    }
   ],
   "source": [
    "# the data set contains only teams which plain premier league.\n",
    "df['comp'].unique()"
   ]
  },
  {
   "cell_type": "code",
   "execution_count": 5,
   "id": "2d0d7d10",
   "metadata": {},
   "outputs": [
    {
     "data": {
      "text/plain": [
       "array(['Manchester City', 'Chelsea', 'Arsenal', 'Tottenham Hotspur',\n",
       "       'Manchester United', 'West Ham United', 'Wolverhampton Wanderers',\n",
       "       'Newcastle United', 'Leicester City', 'Brighton and Hove Albion',\n",
       "       'Brentford', 'Southampton', 'Crystal Palace', 'Aston Villa',\n",
       "       'Leeds United', 'Burnley', 'Everton', 'Watford', 'Norwich City',\n",
       "       'Liverpool', 'Fulham', 'West Bromwich Albion', 'Sheffield United'],\n",
       "      dtype=object)"
      ]
     },
     "execution_count": 5,
     "metadata": {},
     "output_type": "execute_result"
    }
   ],
   "source": [
    "#these are the unique teams present in the dataset.\n",
    "df['team'].unique()"
   ]
  },
  {
   "cell_type": "code",
   "execution_count": 6,
   "id": "96098b58",
   "metadata": {},
   "outputs": [
    {
     "data": {
      "text/plain": [
       "23"
      ]
     },
     "execution_count": 6,
     "metadata": {},
     "output_type": "execute_result"
    }
   ],
   "source": [
    "#the no.of unique teams are 23 as there are 2 seasons data where 3 teams get relegated in each season.\n",
    "df['team'].unique().size"
   ]
  },
  {
   "cell_type": "code",
   "execution_count": 7,
   "id": "8e321651",
   "metadata": {},
   "outputs": [
    {
     "data": {
      "text/plain": [
       "date             object\n",
       "time             object\n",
       "comp             object\n",
       "round            object\n",
       "day              object\n",
       "venue            object\n",
       "result           object\n",
       "gf              float64\n",
       "ga              float64\n",
       "opponent         object\n",
       "xg              float64\n",
       "xga             float64\n",
       "poss            float64\n",
       "attendance      float64\n",
       "captain          object\n",
       "formation        object\n",
       "referee          object\n",
       "match report     object\n",
       "notes           float64\n",
       "sh              float64\n",
       "sot             float64\n",
       "dist            float64\n",
       "fk              float64\n",
       "pk              float64\n",
       "pkatt           float64\n",
       "season            int64\n",
       "team             object\n",
       "dtype: object"
      ]
     },
     "execution_count": 7,
     "metadata": {},
     "output_type": "execute_result"
    }
   ],
   "source": [
    "#datatypes of the values present in the dataset , we need to covert every column to a numerical representation.\n",
    "df.dtypes"
   ]
  },
  {
   "cell_type": "code",
   "execution_count": 8,
   "id": "230a6cf9",
   "metadata": {},
   "outputs": [
    {
     "data": {
      "text/plain": [
       "dtype('<M8[ns]')"
      ]
     },
     "execution_count": 8,
     "metadata": {},
     "output_type": "execute_result"
    }
   ],
   "source": [
    "#converting time to date time type.\n",
    "df['date'] = df['date'].apply(lambda x: pd.to_datetime(x))\n",
    "df['date'].dtype"
   ]
  },
  {
   "cell_type": "code",
   "execution_count": 9,
   "id": "79bfa7a8",
   "metadata": {},
   "outputs": [
    {
     "data": {
      "text/plain": [
       "(dtype('int64'), dtype('int64'))"
      ]
     },
     "execution_count": 9,
     "metadata": {},
     "output_type": "execute_result"
    }
   ],
   "source": [
    "#creating match kickoff hours and minutes column from time and coverting it into int.\n",
    "df['kf_hrs'] = df['time'].apply(lambda x: int(x.split(':')[0]))\n",
    "df['kf_mins'] = df['time'].apply(lambda x: int(x.split(':')[1]))\n",
    "df['kf_hrs'].dtype , df['kf_mins'].dtype"
   ]
  },
  {
   "cell_type": "code",
   "execution_count": 10,
   "id": "bb8b3ed4",
   "metadata": {},
   "outputs": [
    {
     "data": {
      "text/plain": [
       "array([ 1,  2,  3,  4,  5,  6,  7,  8,  9, 10, 11, 12, 13, 14, 15, 16, 17,\n",
       "       18, 19, 20, 21, 22, 23, 24, 25, 26, 27, 28, 29, 31, 32, 30, 34, 33,\n",
       "       35, 36, 37, 38], dtype=int64)"
      ]
     },
     "execution_count": 10,
     "metadata": {},
     "output_type": "execute_result"
    }
   ],
   "source": [
    "df['matchweek'] = df['round'].apply(lambda x:int(x.split(\" \")[1]))\n",
    "df['matchweek'].unique()"
   ]
  },
  {
   "cell_type": "code",
   "execution_count": 11,
   "id": "478aab80",
   "metadata": {},
   "outputs": [
    {
     "data": {
      "text/plain": [
       "date               0\n",
       "time               0\n",
       "comp               0\n",
       "round              0\n",
       "day                0\n",
       "venue              0\n",
       "result             0\n",
       "gf                 0\n",
       "ga                 0\n",
       "opponent           0\n",
       "xg                 0\n",
       "xga                0\n",
       "poss               0\n",
       "attendance       696\n",
       "captain            0\n",
       "formation          0\n",
       "referee            0\n",
       "match report       0\n",
       "notes           1389\n",
       "sh                 0\n",
       "sot                0\n",
       "dist               1\n",
       "fk                 0\n",
       "pk                 0\n",
       "pkatt              0\n",
       "season             0\n",
       "team               0\n",
       "kf_hrs             0\n",
       "kf_mins            0\n",
       "matchweek          0\n",
       "dtype: int64"
      ]
     },
     "execution_count": 11,
     "metadata": {},
     "output_type": "execute_result"
    }
   ],
   "source": [
    "df.isnull().sum()"
   ]
  },
  {
   "cell_type": "code",
   "execution_count": 12,
   "id": "49211e30",
   "metadata": {},
   "outputs": [],
   "source": [
    "#we can remove notes  and match report\n",
    "df = df.drop(['notes'],axis=1)\n",
    "df=df.drop(['match report'],axis=1)"
   ]
  },
  {
   "cell_type": "code",
   "execution_count": 13,
   "id": "2316f2eb",
   "metadata": {},
   "outputs": [],
   "source": [
    "#filling NaN value of dist with 0.\n",
    "df[df['dist'].isna()]\n",
    "df['dist'] = df['dist'].fillna(0)"
   ]
  },
  {
   "cell_type": "code",
   "execution_count": 14,
   "id": "99027cc8",
   "metadata": {
    "scrolled": true
   },
   "outputs": [
    {
     "data": {
      "text/plain": [
       "date            0\n",
       "time            0\n",
       "comp            0\n",
       "round           0\n",
       "day             0\n",
       "venue           0\n",
       "result          0\n",
       "gf              0\n",
       "ga              0\n",
       "opponent        0\n",
       "xg              0\n",
       "xga             0\n",
       "poss            0\n",
       "attendance    696\n",
       "captain         0\n",
       "formation       0\n",
       "referee         0\n",
       "sh              0\n",
       "sot             0\n",
       "dist            0\n",
       "fk              0\n",
       "pk              0\n",
       "pkatt           0\n",
       "season          0\n",
       "team            0\n",
       "kf_hrs          0\n",
       "kf_mins         0\n",
       "matchweek       0\n",
       "dtype: int64"
      ]
     },
     "execution_count": 14,
     "metadata": {},
     "output_type": "execute_result"
    }
   ],
   "source": [
    "df.isnull().sum()"
   ]
  },
  {
   "cell_type": "code",
   "execution_count": 15,
   "id": "d606078d",
   "metadata": {},
   "outputs": [],
   "source": [
    "#fill na values with the mean attendance of the team.\n",
    "attendance_NantemaList = df['team'].unique()\n",
    "mean_dict = {}\n",
    "for i in attendance_NantemaList:\n",
    "    temp_List=[]\n",
    "    temp_List=  df[df['team']==i]['attendance']\n",
    "    mean_dict.update({i:temp_List.mean()})"
   ]
  },
  {
   "cell_type": "code",
   "execution_count": 16,
   "id": "165ff6b0",
   "metadata": {},
   "outputs": [],
   "source": [
    "attendance_arr_final = []\n",
    "for i in attendance_NantemaList:\n",
    "    attendance_arr_final.extend(df[df['team']==i]['attendance'].fillna(mean_dict[i]))\n",
    "\n",
    "\n",
    "df['attendance'] = attendance_arr_final"
   ]
  },
  {
   "cell_type": "code",
   "execution_count": 17,
   "id": "a37a4f49",
   "metadata": {},
   "outputs": [
    {
     "data": {
      "text/plain": [
       "date          0\n",
       "time          0\n",
       "comp          0\n",
       "round         0\n",
       "day           0\n",
       "venue         0\n",
       "result        0\n",
       "gf            0\n",
       "ga            0\n",
       "opponent      0\n",
       "xg            0\n",
       "xga           0\n",
       "poss          0\n",
       "attendance    0\n",
       "captain       0\n",
       "formation     0\n",
       "referee       0\n",
       "sh            0\n",
       "sot           0\n",
       "dist          0\n",
       "fk            0\n",
       "pk            0\n",
       "pkatt         0\n",
       "season        0\n",
       "team          0\n",
       "kf_hrs        0\n",
       "kf_mins       0\n",
       "matchweek     0\n",
       "dtype: int64"
      ]
     },
     "execution_count": 17,
     "metadata": {},
     "output_type": "execute_result"
    }
   ],
   "source": [
    "df.isnull().sum()"
   ]
  },
  {
   "cell_type": "code",
   "execution_count": 18,
   "id": "f1e9e789",
   "metadata": {},
   "outputs": [
    {
     "data": {
      "text/plain": [
       "date          datetime64[ns]\n",
       "time                  object\n",
       "comp                  object\n",
       "round                 object\n",
       "day                   object\n",
       "venue                 object\n",
       "result                object\n",
       "gf                   float64\n",
       "ga                   float64\n",
       "opponent              object\n",
       "xg                   float64\n",
       "xga                  float64\n",
       "poss                 float64\n",
       "attendance           float64\n",
       "captain               object\n",
       "formation             object\n",
       "referee               object\n",
       "sh                   float64\n",
       "sot                  float64\n",
       "dist                 float64\n",
       "fk                   float64\n",
       "pk                   float64\n",
       "pkatt                float64\n",
       "season                 int64\n",
       "team                  object\n",
       "kf_hrs                 int64\n",
       "kf_mins                int64\n",
       "matchweek              int64\n",
       "dtype: object"
      ]
     },
     "execution_count": 18,
     "metadata": {},
     "output_type": "execute_result"
    }
   ],
   "source": [
    "df.dtypes"
   ]
  },
  {
   "cell_type": "code",
   "execution_count": 37,
   "id": "7365608d",
   "metadata": {},
   "outputs": [],
   "source": [
    "#storing the data of past 3 matchs average.\n",
    "df_temp = pd.DataFrame()\n",
    "team_groups = df.groupby('team')\n",
    "colmn = ['gf','ga','sh','sot','dist','fk','pk','pkatt']\n",
    "new_colmn = [f\"rolling_{i}\" for i in colmn]\n",
    "teamnames= df['team'].unique()\n",
    "def three_match_avg(group , colmn,new_colmn):\n",
    "    group = group.sort_values('date')\n",
    "    threemathcesavg = group[colmn].rolling(3,closed='left').mean()\n",
    "    group[new_colmn] = threemathcesavg\n",
    "    group = group.dropna(subset=new_colmn)\n",
    "    return group\n",
    "\n",
    "for i in teamnames:\n",
    "    grouped_each =  team_groups.get_group(i)\n",
    "    indivi_grp = three_match_avg(grouped_each,colmn,new_colmn)\n",
    "    df_temp= pd.concat([df_temp,indivi_grp],)\n",
    "\n",
    "df = df_temp"
   ]
  },
  {
   "cell_type": "code",
   "execution_count": 54,
   "id": "6d705e65",
   "metadata": {},
   "outputs": [
    {
     "data": {
      "text/plain": [
       "5     W\n",
       "7     D\n",
       "9     W\n",
       "11    D\n",
       "12    L\n",
       "     ..\n",
       "38    L\n",
       "39    L\n",
       "40    W\n",
       "41    L\n",
       "42    W\n",
       "Name: result, Length: 1320, dtype: object"
      ]
     },
     "execution_count": 54,
     "metadata": {},
     "output_type": "execute_result"
    }
   ],
   "source": [
    "df['result']"
   ]
  },
  {
   "cell_type": "code",
   "execution_count": 57,
   "id": "67772cd8",
   "metadata": {},
   "outputs": [],
   "source": [
    "#lable encoding datas.\n",
    "df['day_lable'] = df['day'].astype('category').cat.codes\n",
    "df['venue_lable'] = df['venue'].astype('category').cat.codes\n",
    "df['opponent_lable'] = df['opponent'].astype('category').cat.codes\n",
    "df['formation_lable'] = df['formation'].astype('category').cat.codes\n",
    "df['referee_lable'] = df['referee'].astype('category').cat.codes\n",
    "df['result_lable'] = df['result'].apply(lambda x: 1 if x=='W' else 0) "
   ]
  },
  {
   "cell_type": "code",
   "execution_count": 58,
   "id": "b6dd0649",
   "metadata": {
    "scrolled": true
   },
   "outputs": [
    {
     "data": {
      "text/html": [
       "<div>\n",
       "<style scoped>\n",
       "    .dataframe tbody tr th:only-of-type {\n",
       "        vertical-align: middle;\n",
       "    }\n",
       "\n",
       "    .dataframe tbody tr th {\n",
       "        vertical-align: top;\n",
       "    }\n",
       "\n",
       "    .dataframe thead th {\n",
       "        text-align: right;\n",
       "    }\n",
       "</style>\n",
       "<table border=\"1\" class=\"dataframe\">\n",
       "  <thead>\n",
       "    <tr style=\"text-align: right;\">\n",
       "      <th></th>\n",
       "      <th>date</th>\n",
       "      <th>time</th>\n",
       "      <th>comp</th>\n",
       "      <th>round</th>\n",
       "      <th>day</th>\n",
       "      <th>venue</th>\n",
       "      <th>result</th>\n",
       "      <th>gf</th>\n",
       "      <th>ga</th>\n",
       "      <th>opponent</th>\n",
       "      <th>...</th>\n",
       "      <th>rolling_dist</th>\n",
       "      <th>rolling_fk</th>\n",
       "      <th>rolling_pk</th>\n",
       "      <th>rolling_pkatt</th>\n",
       "      <th>day_lable</th>\n",
       "      <th>venue_lable</th>\n",
       "      <th>opponent_lable</th>\n",
       "      <th>formation_lable</th>\n",
       "      <th>referee_lable</th>\n",
       "      <th>result_lable</th>\n",
       "    </tr>\n",
       "  </thead>\n",
       "  <tbody>\n",
       "    <tr>\n",
       "      <th>5</th>\n",
       "      <td>2020-10-17</td>\n",
       "      <td>17:30</td>\n",
       "      <td>Premier League</td>\n",
       "      <td>Matchweek 5</td>\n",
       "      <td>Sat</td>\n",
       "      <td>Home</td>\n",
       "      <td>W</td>\n",
       "      <td>1.0</td>\n",
       "      <td>0.0</td>\n",
       "      <td>Arsenal</td>\n",
       "      <td>...</td>\n",
       "      <td>18.900000</td>\n",
       "      <td>1.333333</td>\n",
       "      <td>0.333333</td>\n",
       "      <td>0.333333</td>\n",
       "      <td>2</td>\n",
       "      <td>1</td>\n",
       "      <td>0</td>\n",
       "      <td>4</td>\n",
       "      <td>3</td>\n",
       "      <td>1</td>\n",
       "    </tr>\n",
       "    <tr>\n",
       "      <th>7</th>\n",
       "      <td>2020-10-24</td>\n",
       "      <td>12:30</td>\n",
       "      <td>Premier League</td>\n",
       "      <td>Matchweek 6</td>\n",
       "      <td>Sat</td>\n",
       "      <td>Away</td>\n",
       "      <td>D</td>\n",
       "      <td>1.0</td>\n",
       "      <td>1.0</td>\n",
       "      <td>West Ham</td>\n",
       "      <td>...</td>\n",
       "      <td>17.733333</td>\n",
       "      <td>0.666667</td>\n",
       "      <td>0.000000</td>\n",
       "      <td>0.000000</td>\n",
       "      <td>2</td>\n",
       "      <td>0</td>\n",
       "      <td>21</td>\n",
       "      <td>10</td>\n",
       "      <td>2</td>\n",
       "      <td>0</td>\n",
       "    </tr>\n",
       "    <tr>\n",
       "      <th>9</th>\n",
       "      <td>2020-10-31</td>\n",
       "      <td>12:30</td>\n",
       "      <td>Premier League</td>\n",
       "      <td>Matchweek 7</td>\n",
       "      <td>Sat</td>\n",
       "      <td>Away</td>\n",
       "      <td>W</td>\n",
       "      <td>1.0</td>\n",
       "      <td>0.0</td>\n",
       "      <td>Sheffield Utd</td>\n",
       "      <td>...</td>\n",
       "      <td>18.233333</td>\n",
       "      <td>0.666667</td>\n",
       "      <td>0.000000</td>\n",
       "      <td>0.000000</td>\n",
       "      <td>2</td>\n",
       "      <td>0</td>\n",
       "      <td>16</td>\n",
       "      <td>10</td>\n",
       "      <td>14</td>\n",
       "      <td>1</td>\n",
       "    </tr>\n",
       "    <tr>\n",
       "      <th>11</th>\n",
       "      <td>2020-11-08</td>\n",
       "      <td>16:30</td>\n",
       "      <td>Premier League</td>\n",
       "      <td>Matchweek 8</td>\n",
       "      <td>Sun</td>\n",
       "      <td>Home</td>\n",
       "      <td>D</td>\n",
       "      <td>1.0</td>\n",
       "      <td>1.0</td>\n",
       "      <td>Liverpool</td>\n",
       "      <td>...</td>\n",
       "      <td>18.466667</td>\n",
       "      <td>1.000000</td>\n",
       "      <td>0.000000</td>\n",
       "      <td>0.000000</td>\n",
       "      <td>3</td>\n",
       "      <td>1</td>\n",
       "      <td>11</td>\n",
       "      <td>7</td>\n",
       "      <td>4</td>\n",
       "      <td>0</td>\n",
       "    </tr>\n",
       "    <tr>\n",
       "      <th>12</th>\n",
       "      <td>2020-11-21</td>\n",
       "      <td>17:30</td>\n",
       "      <td>Premier League</td>\n",
       "      <td>Matchweek 9</td>\n",
       "      <td>Sat</td>\n",
       "      <td>Away</td>\n",
       "      <td>L</td>\n",
       "      <td>0.0</td>\n",
       "      <td>2.0</td>\n",
       "      <td>Tottenham</td>\n",
       "      <td>...</td>\n",
       "      <td>19.366667</td>\n",
       "      <td>1.000000</td>\n",
       "      <td>0.000000</td>\n",
       "      <td>0.333333</td>\n",
       "      <td>2</td>\n",
       "      <td>0</td>\n",
       "      <td>18</td>\n",
       "      <td>10</td>\n",
       "      <td>16</td>\n",
       "      <td>0</td>\n",
       "    </tr>\n",
       "  </tbody>\n",
       "</table>\n",
       "<p>5 rows × 42 columns</p>\n",
       "</div>"
      ],
      "text/plain": [
       "         date   time            comp        round  day venue result   gf   ga  \\\n",
       "5  2020-10-17  17:30  Premier League  Matchweek 5  Sat  Home      W  1.0  0.0   \n",
       "7  2020-10-24  12:30  Premier League  Matchweek 6  Sat  Away      D  1.0  1.0   \n",
       "9  2020-10-31  12:30  Premier League  Matchweek 7  Sat  Away      W  1.0  0.0   \n",
       "11 2020-11-08  16:30  Premier League  Matchweek 8  Sun  Home      D  1.0  1.0   \n",
       "12 2020-11-21  17:30  Premier League  Matchweek 9  Sat  Away      L  0.0  2.0   \n",
       "\n",
       "         opponent  ...  rolling_dist  rolling_fk  rolling_pk  rolling_pkatt  \\\n",
       "5         Arsenal  ...     18.900000    1.333333    0.333333       0.333333   \n",
       "7        West Ham  ...     17.733333    0.666667    0.000000       0.000000   \n",
       "9   Sheffield Utd  ...     18.233333    0.666667    0.000000       0.000000   \n",
       "11      Liverpool  ...     18.466667    1.000000    0.000000       0.000000   \n",
       "12      Tottenham  ...     19.366667    1.000000    0.000000       0.333333   \n",
       "\n",
       "   day_lable venue_lable opponent_lable  formation_lable  referee_lable  \\\n",
       "5          2           1              0                4              3   \n",
       "7          2           0             21               10              2   \n",
       "9          2           0             16               10             14   \n",
       "11         3           1             11                7              4   \n",
       "12         2           0             18               10             16   \n",
       "\n",
       "    result_lable  \n",
       "5              1  \n",
       "7              0  \n",
       "9              1  \n",
       "11             0  \n",
       "12             0  \n",
       "\n",
       "[5 rows x 42 columns]"
      ]
     },
     "execution_count": 58,
     "metadata": {},
     "output_type": "execute_result"
    }
   ],
   "source": [
    "df.head()"
   ]
  },
  {
   "cell_type": "code",
   "execution_count": 59,
   "id": "0a48c475",
   "metadata": {},
   "outputs": [
    {
     "data": {
      "text/html": [
       "<div>\n",
       "<style scoped>\n",
       "    .dataframe tbody tr th:only-of-type {\n",
       "        vertical-align: middle;\n",
       "    }\n",
       "\n",
       "    .dataframe tbody tr th {\n",
       "        vertical-align: top;\n",
       "    }\n",
       "\n",
       "    .dataframe thead th {\n",
       "        text-align: right;\n",
       "    }\n",
       "</style>\n",
       "<table border=\"1\" class=\"dataframe\">\n",
       "  <thead>\n",
       "    <tr style=\"text-align: right;\">\n",
       "      <th></th>\n",
       "      <th>date</th>\n",
       "      <th>xg</th>\n",
       "      <th>xga</th>\n",
       "      <th>poss</th>\n",
       "      <th>attendance</th>\n",
       "      <th>kf_hrs</th>\n",
       "      <th>kf_mins</th>\n",
       "      <th>matchweek</th>\n",
       "      <th>rolling_gf</th>\n",
       "      <th>rolling_ga</th>\n",
       "      <th>...</th>\n",
       "      <th>rolling_dist</th>\n",
       "      <th>rolling_fk</th>\n",
       "      <th>rolling_pk</th>\n",
       "      <th>rolling_pkatt</th>\n",
       "      <th>day_lable</th>\n",
       "      <th>venue_lable</th>\n",
       "      <th>opponent_lable</th>\n",
       "      <th>formation_lable</th>\n",
       "      <th>referee_lable</th>\n",
       "      <th>result_lable</th>\n",
       "    </tr>\n",
       "  </thead>\n",
       "  <tbody>\n",
       "    <tr>\n",
       "      <th>5</th>\n",
       "      <td>2020-10-17</td>\n",
       "      <td>1.5</td>\n",
       "      <td>0.9</td>\n",
       "      <td>59.0</td>\n",
       "      <td>34598.176471</td>\n",
       "      <td>17</td>\n",
       "      <td>30</td>\n",
       "      <td>5</td>\n",
       "      <td>2.000000</td>\n",
       "      <td>2.333333</td>\n",
       "      <td>...</td>\n",
       "      <td>18.900000</td>\n",
       "      <td>1.333333</td>\n",
       "      <td>0.333333</td>\n",
       "      <td>0.333333</td>\n",
       "      <td>2</td>\n",
       "      <td>1</td>\n",
       "      <td>0</td>\n",
       "      <td>4</td>\n",
       "      <td>3</td>\n",
       "      <td>1</td>\n",
       "    </tr>\n",
       "    <tr>\n",
       "      <th>7</th>\n",
       "      <td>2020-10-24</td>\n",
       "      <td>1.1</td>\n",
       "      <td>0.5</td>\n",
       "      <td>70.0</td>\n",
       "      <td>34598.176471</td>\n",
       "      <td>12</td>\n",
       "      <td>30</td>\n",
       "      <td>6</td>\n",
       "      <td>1.333333</td>\n",
       "      <td>2.000000</td>\n",
       "      <td>...</td>\n",
       "      <td>17.733333</td>\n",
       "      <td>0.666667</td>\n",
       "      <td>0.000000</td>\n",
       "      <td>0.000000</td>\n",
       "      <td>2</td>\n",
       "      <td>0</td>\n",
       "      <td>21</td>\n",
       "      <td>10</td>\n",
       "      <td>2</td>\n",
       "      <td>0</td>\n",
       "    </tr>\n",
       "    <tr>\n",
       "      <th>9</th>\n",
       "      <td>2020-10-31</td>\n",
       "      <td>1.5</td>\n",
       "      <td>0.5</td>\n",
       "      <td>64.0</td>\n",
       "      <td>34598.176471</td>\n",
       "      <td>12</td>\n",
       "      <td>30</td>\n",
       "      <td>7</td>\n",
       "      <td>1.000000</td>\n",
       "      <td>0.666667</td>\n",
       "      <td>...</td>\n",
       "      <td>18.233333</td>\n",
       "      <td>0.666667</td>\n",
       "      <td>0.000000</td>\n",
       "      <td>0.000000</td>\n",
       "      <td>2</td>\n",
       "      <td>0</td>\n",
       "      <td>16</td>\n",
       "      <td>10</td>\n",
       "      <td>14</td>\n",
       "      <td>1</td>\n",
       "    </tr>\n",
       "    <tr>\n",
       "      <th>11</th>\n",
       "      <td>2020-11-08</td>\n",
       "      <td>1.6</td>\n",
       "      <td>1.4</td>\n",
       "      <td>54.0</td>\n",
       "      <td>34598.176471</td>\n",
       "      <td>16</td>\n",
       "      <td>30</td>\n",
       "      <td>8</td>\n",
       "      <td>1.000000</td>\n",
       "      <td>0.333333</td>\n",
       "      <td>...</td>\n",
       "      <td>18.466667</td>\n",
       "      <td>1.000000</td>\n",
       "      <td>0.000000</td>\n",
       "      <td>0.000000</td>\n",
       "      <td>3</td>\n",
       "      <td>1</td>\n",
       "      <td>11</td>\n",
       "      <td>7</td>\n",
       "      <td>4</td>\n",
       "      <td>0</td>\n",
       "    </tr>\n",
       "    <tr>\n",
       "      <th>12</th>\n",
       "      <td>2020-11-21</td>\n",
       "      <td>1.3</td>\n",
       "      <td>0.7</td>\n",
       "      <td>67.0</td>\n",
       "      <td>34598.176471</td>\n",
       "      <td>17</td>\n",
       "      <td>30</td>\n",
       "      <td>9</td>\n",
       "      <td>1.000000</td>\n",
       "      <td>0.666667</td>\n",
       "      <td>...</td>\n",
       "      <td>19.366667</td>\n",
       "      <td>1.000000</td>\n",
       "      <td>0.000000</td>\n",
       "      <td>0.333333</td>\n",
       "      <td>2</td>\n",
       "      <td>0</td>\n",
       "      <td>18</td>\n",
       "      <td>10</td>\n",
       "      <td>16</td>\n",
       "      <td>0</td>\n",
       "    </tr>\n",
       "    <tr>\n",
       "      <th>...</th>\n",
       "      <td>...</td>\n",
       "      <td>...</td>\n",
       "      <td>...</td>\n",
       "      <td>...</td>\n",
       "      <td>...</td>\n",
       "      <td>...</td>\n",
       "      <td>...</td>\n",
       "      <td>...</td>\n",
       "      <td>...</td>\n",
       "      <td>...</td>\n",
       "      <td>...</td>\n",
       "      <td>...</td>\n",
       "      <td>...</td>\n",
       "      <td>...</td>\n",
       "      <td>...</td>\n",
       "      <td>...</td>\n",
       "      <td>...</td>\n",
       "      <td>...</td>\n",
       "      <td>...</td>\n",
       "      <td>...</td>\n",
       "      <td>...</td>\n",
       "    </tr>\n",
       "    <tr>\n",
       "      <th>38</th>\n",
       "      <td>2021-05-02</td>\n",
       "      <td>0.5</td>\n",
       "      <td>2.0</td>\n",
       "      <td>34.0</td>\n",
       "      <td>5666.666667</td>\n",
       "      <td>19</td>\n",
       "      <td>15</td>\n",
       "      <td>34</td>\n",
       "      <td>0.333333</td>\n",
       "      <td>1.333333</td>\n",
       "      <td>...</td>\n",
       "      <td>18.466667</td>\n",
       "      <td>0.000000</td>\n",
       "      <td>0.000000</td>\n",
       "      <td>0.000000</td>\n",
       "      <td>3</td>\n",
       "      <td>0</td>\n",
       "      <td>18</td>\n",
       "      <td>0</td>\n",
       "      <td>0</td>\n",
       "      <td>0</td>\n",
       "    </tr>\n",
       "    <tr>\n",
       "      <th>39</th>\n",
       "      <td>2021-05-08</td>\n",
       "      <td>0.7</td>\n",
       "      <td>2.1</td>\n",
       "      <td>50.0</td>\n",
       "      <td>5666.666667</td>\n",
       "      <td>15</td>\n",
       "      <td>0</td>\n",
       "      <td>35</td>\n",
       "      <td>0.333333</td>\n",
       "      <td>1.666667</td>\n",
       "      <td>...</td>\n",
       "      <td>18.300000</td>\n",
       "      <td>0.000000</td>\n",
       "      <td>0.000000</td>\n",
       "      <td>0.000000</td>\n",
       "      <td>2</td>\n",
       "      <td>1</td>\n",
       "      <td>6</td>\n",
       "      <td>4</td>\n",
       "      <td>20</td>\n",
       "      <td>0</td>\n",
       "    </tr>\n",
       "    <tr>\n",
       "      <th>40</th>\n",
       "      <td>2021-05-16</td>\n",
       "      <td>1.6</td>\n",
       "      <td>1.3</td>\n",
       "      <td>38.0</td>\n",
       "      <td>5666.666667</td>\n",
       "      <td>19</td>\n",
       "      <td>0</td>\n",
       "      <td>36</td>\n",
       "      <td>0.333333</td>\n",
       "      <td>2.000000</td>\n",
       "      <td>...</td>\n",
       "      <td>15.200000</td>\n",
       "      <td>0.333333</td>\n",
       "      <td>0.000000</td>\n",
       "      <td>0.000000</td>\n",
       "      <td>3</td>\n",
       "      <td>0</td>\n",
       "      <td>7</td>\n",
       "      <td>1</td>\n",
       "      <td>10</td>\n",
       "      <td>1</td>\n",
       "    </tr>\n",
       "    <tr>\n",
       "      <th>41</th>\n",
       "      <td>2021-05-19</td>\n",
       "      <td>0.8</td>\n",
       "      <td>1.5</td>\n",
       "      <td>50.0</td>\n",
       "      <td>10000.000000</td>\n",
       "      <td>18</td>\n",
       "      <td>0</td>\n",
       "      <td>37</td>\n",
       "      <td>0.333333</td>\n",
       "      <td>2.000000</td>\n",
       "      <td>...</td>\n",
       "      <td>15.266667</td>\n",
       "      <td>0.333333</td>\n",
       "      <td>0.000000</td>\n",
       "      <td>0.000000</td>\n",
       "      <td>6</td>\n",
       "      <td>0</td>\n",
       "      <td>14</td>\n",
       "      <td>1</td>\n",
       "      <td>19</td>\n",
       "      <td>0</td>\n",
       "    </tr>\n",
       "    <tr>\n",
       "      <th>42</th>\n",
       "      <td>2021-05-23</td>\n",
       "      <td>0.6</td>\n",
       "      <td>1.0</td>\n",
       "      <td>41.0</td>\n",
       "      <td>5000.000000</td>\n",
       "      <td>16</td>\n",
       "      <td>0</td>\n",
       "      <td>38</td>\n",
       "      <td>0.333333</td>\n",
       "      <td>1.000000</td>\n",
       "      <td>...</td>\n",
       "      <td>14.800000</td>\n",
       "      <td>0.666667</td>\n",
       "      <td>0.000000</td>\n",
       "      <td>0.000000</td>\n",
       "      <td>3</td>\n",
       "      <td>1</td>\n",
       "      <td>4</td>\n",
       "      <td>1</td>\n",
       "      <td>11</td>\n",
       "      <td>1</td>\n",
       "    </tr>\n",
       "  </tbody>\n",
       "</table>\n",
       "<p>1320 rows × 22 columns</p>\n",
       "</div>"
      ],
      "text/plain": [
       "         date   xg  xga  poss    attendance  kf_hrs  kf_mins  matchweek  \\\n",
       "5  2020-10-17  1.5  0.9  59.0  34598.176471      17       30          5   \n",
       "7  2020-10-24  1.1  0.5  70.0  34598.176471      12       30          6   \n",
       "9  2020-10-31  1.5  0.5  64.0  34598.176471      12       30          7   \n",
       "11 2020-11-08  1.6  1.4  54.0  34598.176471      16       30          8   \n",
       "12 2020-11-21  1.3  0.7  67.0  34598.176471      17       30          9   \n",
       "..        ...  ...  ...   ...           ...     ...      ...        ...   \n",
       "38 2021-05-02  0.5  2.0  34.0   5666.666667      19       15         34   \n",
       "39 2021-05-08  0.7  2.1  50.0   5666.666667      15        0         35   \n",
       "40 2021-05-16  1.6  1.3  38.0   5666.666667      19        0         36   \n",
       "41 2021-05-19  0.8  1.5  50.0  10000.000000      18        0         37   \n",
       "42 2021-05-23  0.6  1.0  41.0   5000.000000      16        0         38   \n",
       "\n",
       "    rolling_gf  rolling_ga  ...  rolling_dist  rolling_fk  rolling_pk  \\\n",
       "5     2.000000    2.333333  ...     18.900000    1.333333    0.333333   \n",
       "7     1.333333    2.000000  ...     17.733333    0.666667    0.000000   \n",
       "9     1.000000    0.666667  ...     18.233333    0.666667    0.000000   \n",
       "11    1.000000    0.333333  ...     18.466667    1.000000    0.000000   \n",
       "12    1.000000    0.666667  ...     19.366667    1.000000    0.000000   \n",
       "..         ...         ...  ...           ...         ...         ...   \n",
       "38    0.333333    1.333333  ...     18.466667    0.000000    0.000000   \n",
       "39    0.333333    1.666667  ...     18.300000    0.000000    0.000000   \n",
       "40    0.333333    2.000000  ...     15.200000    0.333333    0.000000   \n",
       "41    0.333333    2.000000  ...     15.266667    0.333333    0.000000   \n",
       "42    0.333333    1.000000  ...     14.800000    0.666667    0.000000   \n",
       "\n",
       "    rolling_pkatt  day_lable  venue_lable  opponent_lable  formation_lable  \\\n",
       "5        0.333333          2            1               0                4   \n",
       "7        0.000000          2            0              21               10   \n",
       "9        0.000000          2            0              16               10   \n",
       "11       0.000000          3            1              11                7   \n",
       "12       0.333333          2            0              18               10   \n",
       "..            ...        ...          ...             ...              ...   \n",
       "38       0.000000          3            0              18                0   \n",
       "39       0.000000          2            1               6                4   \n",
       "40       0.000000          3            0               7                1   \n",
       "41       0.000000          6            0              14                1   \n",
       "42       0.000000          3            1               4                1   \n",
       "\n",
       "    referee_lable  result_lable  \n",
       "5               3             1  \n",
       "7               2             0  \n",
       "9              14             1  \n",
       "11              4             0  \n",
       "12             16             0  \n",
       "..            ...           ...  \n",
       "38              0             0  \n",
       "39             20             0  \n",
       "40             10             1  \n",
       "41             19             0  \n",
       "42             11             1  \n",
       "\n",
       "[1320 rows x 22 columns]"
      ]
     },
     "execution_count": 59,
     "metadata": {},
     "output_type": "execute_result"
    }
   ],
   "source": [
    "df1 = df.drop(['time','comp','round','day','venue','captain','formation','season','opponent','referee','team','result','gf','ga','sh', 'sot', 'dist', 'fk', 'pk',\n",
    "       'pkatt'],axis=1)\n",
    "df1"
   ]
  },
  {
   "cell_type": "code",
   "execution_count": 60,
   "id": "6b4947e3",
   "metadata": {},
   "outputs": [
    {
     "name": "stdout",
     "output_type": "stream",
     "text": [
      "1038 1038 282 282\n"
     ]
    }
   ],
   "source": [
    "X_train = df1[df1['date']<='2021-12-31']\n",
    "y_train = df1[df1['date']>'2021-12-31']\n",
    "X_test = df1[df1['date']<='2021-12-31']['result_lable']\n",
    "y_test = df1[df1['date']>'2021-12-31']['result_lable']\n",
    "X_train=X_train.drop(['date','result_lable'],axis=1)\n",
    "y_train=y_train.drop(['date','result_lable'],axis=1)\n",
    "print(len(X_train),len(X_test),len(y_train),len(y_test))"
   ]
  },
  {
   "cell_type": "code",
   "execution_count": 61,
   "id": "74dd43b4",
   "metadata": {},
   "outputs": [],
   "source": [
    "model = RandomForestClassifier(n_estimators=550,min_samples_leaf=5,max_leaf_nodes=45,max_depth=70,random_state=1)"
   ]
  },
  {
   "cell_type": "code",
   "execution_count": 62,
   "id": "eb30688c",
   "metadata": {},
   "outputs": [
    {
     "data": {
      "text/html": [
       "<style>#sk-container-id-3 {color: black;background-color: white;}#sk-container-id-3 pre{padding: 0;}#sk-container-id-3 div.sk-toggleable {background-color: white;}#sk-container-id-3 label.sk-toggleable__label {cursor: pointer;display: block;width: 100%;margin-bottom: 0;padding: 0.3em;box-sizing: border-box;text-align: center;}#sk-container-id-3 label.sk-toggleable__label-arrow:before {content: \"▸\";float: left;margin-right: 0.25em;color: #696969;}#sk-container-id-3 label.sk-toggleable__label-arrow:hover:before {color: black;}#sk-container-id-3 div.sk-estimator:hover label.sk-toggleable__label-arrow:before {color: black;}#sk-container-id-3 div.sk-toggleable__content {max-height: 0;max-width: 0;overflow: hidden;text-align: left;background-color: #f0f8ff;}#sk-container-id-3 div.sk-toggleable__content pre {margin: 0.2em;color: black;border-radius: 0.25em;background-color: #f0f8ff;}#sk-container-id-3 input.sk-toggleable__control:checked~div.sk-toggleable__content {max-height: 200px;max-width: 100%;overflow: auto;}#sk-container-id-3 input.sk-toggleable__control:checked~label.sk-toggleable__label-arrow:before {content: \"▾\";}#sk-container-id-3 div.sk-estimator input.sk-toggleable__control:checked~label.sk-toggleable__label {background-color: #d4ebff;}#sk-container-id-3 div.sk-label input.sk-toggleable__control:checked~label.sk-toggleable__label {background-color: #d4ebff;}#sk-container-id-3 input.sk-hidden--visually {border: 0;clip: rect(1px 1px 1px 1px);clip: rect(1px, 1px, 1px, 1px);height: 1px;margin: -1px;overflow: hidden;padding: 0;position: absolute;width: 1px;}#sk-container-id-3 div.sk-estimator {font-family: monospace;background-color: #f0f8ff;border: 1px dotted black;border-radius: 0.25em;box-sizing: border-box;margin-bottom: 0.5em;}#sk-container-id-3 div.sk-estimator:hover {background-color: #d4ebff;}#sk-container-id-3 div.sk-parallel-item::after {content: \"\";width: 100%;border-bottom: 1px solid gray;flex-grow: 1;}#sk-container-id-3 div.sk-label:hover label.sk-toggleable__label {background-color: #d4ebff;}#sk-container-id-3 div.sk-serial::before {content: \"\";position: absolute;border-left: 1px solid gray;box-sizing: border-box;top: 0;bottom: 0;left: 50%;z-index: 0;}#sk-container-id-3 div.sk-serial {display: flex;flex-direction: column;align-items: center;background-color: white;padding-right: 0.2em;padding-left: 0.2em;position: relative;}#sk-container-id-3 div.sk-item {position: relative;z-index: 1;}#sk-container-id-3 div.sk-parallel {display: flex;align-items: stretch;justify-content: center;background-color: white;position: relative;}#sk-container-id-3 div.sk-item::before, #sk-container-id-3 div.sk-parallel-item::before {content: \"\";position: absolute;border-left: 1px solid gray;box-sizing: border-box;top: 0;bottom: 0;left: 50%;z-index: -1;}#sk-container-id-3 div.sk-parallel-item {display: flex;flex-direction: column;z-index: 1;position: relative;background-color: white;}#sk-container-id-3 div.sk-parallel-item:first-child::after {align-self: flex-end;width: 50%;}#sk-container-id-3 div.sk-parallel-item:last-child::after {align-self: flex-start;width: 50%;}#sk-container-id-3 div.sk-parallel-item:only-child::after {width: 0;}#sk-container-id-3 div.sk-dashed-wrapped {border: 1px dashed gray;margin: 0 0.4em 0.5em 0.4em;box-sizing: border-box;padding-bottom: 0.4em;background-color: white;}#sk-container-id-3 div.sk-label label {font-family: monospace;font-weight: bold;display: inline-block;line-height: 1.2em;}#sk-container-id-3 div.sk-label-container {text-align: center;}#sk-container-id-3 div.sk-container {/* jupyter's `normalize.less` sets `[hidden] { display: none; }` but bootstrap.min.css set `[hidden] { display: none !important; }` so we also need the `!important` here to be able to override the default hidden behavior on the sphinx rendered scikit-learn.org. See: https://github.com/scikit-learn/scikit-learn/issues/21755 */display: inline-block !important;position: relative;}#sk-container-id-3 div.sk-text-repr-fallback {display: none;}</style><div id=\"sk-container-id-3\" class=\"sk-top-container\"><div class=\"sk-text-repr-fallback\"><pre>RandomForestClassifier(max_depth=70, max_leaf_nodes=45, min_samples_leaf=5,\n",
       "                       n_estimators=550, random_state=1)</pre><b>In a Jupyter environment, please rerun this cell to show the HTML representation or trust the notebook. <br />On GitHub, the HTML representation is unable to render, please try loading this page with nbviewer.org.</b></div><div class=\"sk-container\" hidden><div class=\"sk-item\"><div class=\"sk-estimator sk-toggleable\"><input class=\"sk-toggleable__control sk-hidden--visually\" id=\"sk-estimator-id-3\" type=\"checkbox\" checked><label for=\"sk-estimator-id-3\" class=\"sk-toggleable__label sk-toggleable__label-arrow\">RandomForestClassifier</label><div class=\"sk-toggleable__content\"><pre>RandomForestClassifier(max_depth=70, max_leaf_nodes=45, min_samples_leaf=5,\n",
       "                       n_estimators=550, random_state=1)</pre></div></div></div></div></div>"
      ],
      "text/plain": [
       "RandomForestClassifier(max_depth=70, max_leaf_nodes=45, min_samples_leaf=5,\n",
       "                       n_estimators=550, random_state=1)"
      ]
     },
     "execution_count": 62,
     "metadata": {},
     "output_type": "execute_result"
    }
   ],
   "source": [
    "model.fit(X_train,X_test)"
   ]
  },
  {
   "cell_type": "code",
   "execution_count": 63,
   "id": "51be20fe",
   "metadata": {
    "scrolled": true
   },
   "outputs": [
    {
     "data": {
      "text/plain": [
       "array([1, 0, 0, 1, 1, 0, 1, 1, 1, 1, 1, 1, 1, 0, 0, 0, 0, 0, 1, 1, 0, 0,\n",
       "       1, 0, 1, 0, 1, 1, 1, 1, 0, 1, 0, 0, 0, 1, 1, 1, 0, 1, 1, 0, 0, 0,\n",
       "       0, 0, 0, 1, 0, 1, 1, 1, 0, 0, 0, 0, 0, 0, 1, 1, 1, 1, 1, 1, 0, 0,\n",
       "       0, 0, 0, 0, 0, 0, 1, 0, 0, 0, 0, 0, 1, 0, 1, 0, 0, 0, 0, 0, 0, 1,\n",
       "       0, 0, 0, 0, 0, 0, 0, 0, 0, 0, 0, 0, 0, 0, 0, 1, 0, 0, 1, 0, 0, 0,\n",
       "       0, 0, 1, 1, 0, 1, 0, 1, 0, 1, 1, 0, 0, 0, 0, 0, 0, 0, 0, 0, 0, 1,\n",
       "       0, 0, 1, 0, 0, 0, 0, 0, 0, 1, 0, 0, 0, 1, 0, 0, 0, 0, 1, 0, 1, 0,\n",
       "       0, 1, 1, 0, 1, 1, 0, 0, 0, 0, 0, 1, 0, 1, 1, 0, 1, 0, 0, 0, 0, 0,\n",
       "       0, 0, 0, 0, 0, 0, 0, 0, 0, 1, 0, 1, 1, 0, 1, 0, 1, 0, 0, 0, 0, 1,\n",
       "       1, 1, 0, 0, 0, 1, 0, 0, 0, 0, 0, 0, 0, 0, 0, 1, 0, 1, 1, 0, 0, 0,\n",
       "       0, 0, 0, 0, 0, 0, 0, 0, 0, 0, 0, 0, 0, 0, 0, 0, 0, 0, 0, 0, 0, 1,\n",
       "       0, 0, 0, 0, 0, 0, 1, 0, 0, 0, 0, 0, 0, 0, 0, 0, 0, 0, 0, 0, 0, 0,\n",
       "       0, 0, 0, 0, 0, 0, 0, 0, 0, 0, 0, 0, 0, 0, 0, 0, 0, 0], dtype=int64)"
      ]
     },
     "execution_count": 63,
     "metadata": {},
     "output_type": "execute_result"
    }
   ],
   "source": [
    "pred = model.predict(y_train)\n",
    "pred"
   ]
  },
  {
   "cell_type": "code",
   "execution_count": 67,
   "id": "c8686d14",
   "metadata": {},
   "outputs": [
    {
     "data": {
      "text/plain": [
       "0.7198581560283688"
      ]
     },
     "execution_count": 67,
     "metadata": {},
     "output_type": "execute_result"
    }
   ],
   "source": [
    "acc = accuracy_score(y_test,pred)\n",
    "acc"
   ]
  },
  {
   "cell_type": "code",
   "execution_count": 68,
   "id": "01826d10",
   "metadata": {},
   "outputs": [
    {
     "data": {
      "text/plain": [
       "0.7149924064817681"
      ]
     },
     "execution_count": 68,
     "metadata": {},
     "output_type": "execute_result"
    }
   ],
   "source": [
    "precs = precision_score(y_test,pred,average='weighted')\n",
    "precs"
   ]
  },
  {
   "cell_type": "code",
   "execution_count": 69,
   "id": "07eb13f3",
   "metadata": {},
   "outputs": [
    {
     "data": {
      "text/plain": [
       "(array([1, 0], dtype=int64), array(['L', 'W', 'D'], dtype=object))"
      ]
     },
     "execution_count": 69,
     "metadata": {},
     "output_type": "execute_result"
    }
   ],
   "source": [
    "df['result_lable'].unique(),df_initial['result'].unique()"
   ]
  },
  {
   "cell_type": "code",
   "execution_count": 70,
   "id": "9ea91ec8",
   "metadata": {},
   "outputs": [
    {
     "name": "stdout",
     "output_type": "stream",
     "text": [
      "Index(['xg', 'xga', 'poss', 'attendance', 'kf_hrs', 'kf_mins', 'matchweek',\n",
      "       'rolling_gf', 'rolling_ga', 'rolling_sh', 'rolling_sot', 'rolling_dist',\n",
      "       'rolling_fk', 'rolling_pk', 'rolling_pkatt', 'day_lable', 'venue_lable',\n",
      "       'opponent_lable', 'formation_lable', 'referee_lable'],\n",
      "      dtype='object')\n"
     ]
    }
   ],
   "source": [
    "print(X_train.columns)"
   ]
  },
  {
   "cell_type": "code",
   "execution_count": null,
   "id": "9b822a3a",
   "metadata": {},
   "outputs": [],
   "source": []
  }
 ],
 "metadata": {
  "kernelspec": {
   "display_name": "deeplearning",
   "language": "python",
   "name": "deeplearning"
  },
  "language_info": {
   "codemirror_mode": {
    "name": "ipython",
    "version": 3
   },
   "file_extension": ".py",
   "mimetype": "text/x-python",
   "name": "python",
   "nbconvert_exporter": "python",
   "pygments_lexer": "ipython3",
   "version": "3.9.12"
  }
 },
 "nbformat": 4,
 "nbformat_minor": 5
}
